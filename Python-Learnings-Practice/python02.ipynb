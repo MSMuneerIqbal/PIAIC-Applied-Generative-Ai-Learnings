{
 "cells": [
  {
   "cell_type": "code",
   "execution_count": 2,
   "metadata": {},
   "outputs": [
    {
     "name": "stdout",
     "output_type": "stream",
     "text": [
      "The weather today is normal.\n",
      "Welcome\n"
     ]
    }
   ],
   "source": [
    "temp: float = float(input(\"Enter the temperature: \"))\n",
    "if temp > 40:\n",
    "    print(\"It's too hot outside.\")\n",
    "elif temp > 30:\n",
    "    print(\"The weather today is normal.\")\n",
    "elif temp > 20:\n",
    "    print(\"Today's weather is cool.\")\n",
    "else:\n",
    "    print(\"OMG! Today's weather is so Cool.\")\n",
    "print(\"Welcome\")"
   ]
  },
  {
   "cell_type": "code",
   "execution_count": 2,
   "metadata": {},
   "outputs": [
    {
     "name": "stdout",
     "output_type": "stream",
     "text": [
      "Welcome\n"
     ]
    }
   ],
   "source": [
    "print(\"Welcome\")"
   ]
  },
  {
   "cell_type": "code",
   "execution_count": 3,
   "metadata": {},
   "outputs": [
    {
     "name": "stdout",
     "output_type": "stream",
     "text": [
      "Fail\n",
      "Welcome\n"
     ]
    }
   ],
   "source": [
    "marks: int = int(input(\"Enter you marks: \"))\n",
    "if marks >=33:\n",
    "    print(\"Pass\")\n",
    "else:\n",
    "    print(\"Fail\")\n",
    "print(\"Welcome\")\n"
   ]
  }
 ],
 "metadata": {
  "kernelspec": {
   "display_name": "myenv",
   "language": "python",
   "name": "python3"
  },
  "language_info": {
   "codemirror_mode": {
    "name": "ipython",
    "version": 3
   },
   "file_extension": ".py",
   "mimetype": "text/x-python",
   "name": "python",
   "nbconvert_exporter": "python",
   "pygments_lexer": "ipython3",
   "version": "3.8.19"
  }
 },
 "nbformat": 4,
 "nbformat_minor": 2
}
